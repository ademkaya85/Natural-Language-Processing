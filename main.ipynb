{
 "cells": [
  {
   "cell_type": "markdown",
   "id": "bde6129c",
   "metadata": {},
   "source": [
    "# Project 4, Adem Kaya"
   ]
  },
  {
   "cell_type": "markdown",
   "id": "0a6473c1",
   "metadata": {},
   "source": [
    "In this week's project we are working with text data and getting with Natural Language Processing (NLP)\n",
    "\n",
    "Aim:\n",
    "- Choose two singers and extract thier lyricys\n",
    "\n",
    "- Construct a machine llearning model that predicts singer. \n",
    "\n",
    "\n",
    "The training data is important:\n",
    "- People most of the time remember the first few words of the song and probably do search with these words\n",
    "\n",
    "- The repeat of the song is more likely to be remembered easily \n",
    "\n",
    "\n",
    "\n"
   ]
  },
  {
   "cell_type": "code",
   "execution_count": 1,
   "id": "0a09b62c",
   "metadata": {},
   "outputs": [
    {
     "name": "stderr",
     "output_type": "stream",
     "text": [
      "[nltk_data] Downloading package wordnet to /home/kaya/nltk_data...\n",
      "[nltk_data]   Package wordnet is already up-to-date!\n",
      "[nltk_data] Downloading package omw-1.4 to /home/kaya/nltk_data...\n",
      "[nltk_data]   Package omw-1.4 is already up-to-date!\n"
     ]
    }
   ],
   "source": [
    "# Import necessary libraries\n",
    "\n",
    "import requests\n",
    "from bs4 import BeautifulSoup\n",
    "import re\n",
    "import csv\n",
    "import pandas as pd\n",
    "from sklearn.feature_extraction.text import CountVectorizer\n",
    "import nltk\n",
    "nltk.download(\"wordnet\")\n",
    "from nltk.stem import WordNetLemmatizer\n",
    "nltk.download('omw-1.4')\n",
    "from sklearn.pipeline import make_pipeline\n",
    "from sklearn.naive_bayes import MultinomialNB\n",
    "from sklearn.feature_extraction.text import TfidfVectorizer\n",
    "from sklearn.metrics import f1_score\n",
    "from sklearn.metrics import accuracy_score, precision_score, recall_score, f1_score, confusion_matrix, ConfusionMatrixDisplay\n",
    "from sklearn.ensemble import RandomForestClassifier\n",
    "from sklearn.model_selection import train_test_split\n",
    "from sklearn.dummy import DummyClassifier\n",
    "from sklearn.compose import ColumnTransformer\n",
    "from sklearn.feature_extraction.text import CountVectorizer\n",
    "import numpy as np\n",
    "from imblearn.over_sampling import RandomOverSampler, SMOTE, ADASYN\n",
    "\n"
   ]
  },
  {
   "cell_type": "code",
   "execution_count": 2,
   "id": "b093190e",
   "metadata": {},
   "outputs": [],
   "source": [
    "# This line is added not to be balclisted\n",
    "\n",
    "headers = {'User-Agent': 'Mozilla/5.0 (Macintosh; Intel Mac OS X 10_10_1) AppleWebKit/537.36 (KHTML, like Gecko) Chrome/39.0.2171.95 Safari/537.36'}"
   ]
  },
  {
   "cell_type": "code",
   "execution_count": 3,
   "id": "d7069e03",
   "metadata": {},
   "outputs": [],
   "source": [
    "# We choose the groups Random-Chance and Random-Axe\n",
    "\n",
    "# Get the url\n",
    "\n",
    "main_url = 'https://www.lyrics.com'\n",
    "\n",
    "artist_sublink_1 = '/artist/Random-Chance/2137861628' \n",
    "artist_sublink_2 = '/artist/Random-Axe/2124228'\n",
    "url_1 = main_url + artist_sublink_1\n",
    "url_2 = main_url + artist_sublink_2"
   ]
  },
  {
   "cell_type": "code",
   "execution_count": 4,
   "id": "8b228bbd",
   "metadata": {},
   "outputs": [],
   "source": [
    "response_1 = requests.get(url_1, headers=headers)\n",
    "response_2 = requests.get(url_2, headers=headers)"
   ]
  },
  {
   "cell_type": "code",
   "execution_count": 5,
   "id": "3d9d63ec",
   "metadata": {},
   "outputs": [
    {
     "data": {
      "text/plain": [
       "<Response [200]>"
      ]
     },
     "execution_count": 5,
     "metadata": {},
     "output_type": "execute_result"
    }
   ],
   "source": [
    "response_1"
   ]
  },
  {
   "cell_type": "code",
   "execution_count": 6,
   "id": "8e8b5987",
   "metadata": {},
   "outputs": [
    {
     "data": {
      "text/plain": [
       "<Response [200]>"
      ]
     },
     "execution_count": 6,
     "metadata": {},
     "output_type": "execute_result"
    }
   ],
   "source": [
    "response_2"
   ]
  },
  {
   "cell_type": "code",
   "execution_count": 7,
   "id": "4a0cdc4d",
   "metadata": {},
   "outputs": [
    {
     "data": {
      "text/plain": [
       "200"
      ]
     },
     "execution_count": 7,
     "metadata": {},
     "output_type": "execute_result"
    }
   ],
   "source": [
    "response_1.status_code"
   ]
  },
  {
   "cell_type": "code",
   "execution_count": 8,
   "id": "ea9e6766",
   "metadata": {},
   "outputs": [
    {
     "data": {
      "text/plain": [
       "200"
      ]
     },
     "execution_count": 8,
     "metadata": {},
     "output_type": "execute_result"
    }
   ],
   "source": [
    "response_2.status_code"
   ]
  },
  {
   "cell_type": "markdown",
   "id": "70dbbb9e",
   "metadata": {},
   "source": [
    "The contents of the webpage are saved in the `.text` attribute."
   ]
  },
  {
   "cell_type": "code",
   "execution_count": 9,
   "id": "7fe30df3",
   "metadata": {},
   "outputs": [],
   "source": [
    "lyrics_html_1 = response_1.text\n",
    "lyrics_soup_1 = BeautifulSoup(lyrics_html_1,\"html.parser\")\n",
    "\n",
    "lyrics_html_2 = response_2.text\n",
    "lyrics_soup_2 = BeautifulSoup(lyrics_html_2,\"html.parser\")\n",
    "\n"
   ]
  },
  {
   "cell_type": "markdown",
   "id": "e9c0a94c",
   "metadata": {},
   "source": [
    " Extract the hyper links for all the songs"
   ]
  },
  {
   "cell_type": "code",
   "execution_count": 10,
   "id": "3e2a8a14",
   "metadata": {
    "scrolled": false
   },
   "outputs": [],
   "source": [
    "links_1 = lyrics_soup_1.find_all(class_=\"tal qx\")\n",
    "\n",
    "links_2 = lyrics_soup_2.find_all(class_=\"tal qx\")\n",
    "\n"
   ]
  },
  {
   "cell_type": "code",
   "execution_count": 11,
   "id": "c918d56d",
   "metadata": {
    "scrolled": true
   },
   "outputs": [],
   "source": [
    "# get_hyper() function handles the duplication in the lists Links_1 and Links_2. \n",
    "\n",
    "def get_hyper(links):\n",
    "    \n",
    "    lyric_list = []\n",
    "\n",
    "    # add all the links in 'lyric_list'\n",
    "    for link in links:\n",
    "        web_link = link.a['href']\n",
    "        \n",
    "        lyric_list.append(web_link)\n",
    "        \n",
    "\n",
    "\n",
    "    # create an emty list \n",
    "    duplicate = []\n",
    "\n",
    "    \n",
    "    \n",
    "    # check duplications and add the indexes of duplications in 'duplicate'\n",
    "    for i in range(0,len(lyric_list)-1):\n",
    "       string_i = lyric_list[i][28:35]\n",
    "      \n",
    "       for j in range(i+1,len(lyric_list)-1):\n",
    "           string_j = lyric_list[j][28:35]\n",
    "          \n",
    "           if string_i == string_j:\n",
    "              \n",
    "              duplicate.append(j)\n",
    "\n",
    "    # Remove repetaed numbers            \n",
    "    duplicate1 = list(set(duplicate))\n",
    "\n",
    "\n",
    "    # craete a new empty list to save the duplicated links\n",
    "    lyric_list_r = []\n",
    "\n",
    "    for i in duplicate1:\n",
    "      \n",
    "       lyric_list_r.append(lyric_list[i])\n",
    "                        \n",
    "\n",
    "    # remove the duplicated links from the original list using index number        \n",
    "    for k in lyric_list_r:\n",
    "       \n",
    "       lyric_list.remove(k)\n",
    "\n",
    "\n",
    "\n",
    "    \n",
    "    \n",
    "    # sum up main link and the song related part\n",
    "    lyric_list_href = []\n",
    "\n",
    "    for i in lyric_list:\n",
    "       song_url = main_url + i\n",
    "       lyric_list_href.append(song_url)\n",
    "       print(song_url)\n",
    "\n",
    "    return  lyric_list_href"
   ]
  },
  {
   "cell_type": "code",
   "execution_count": 12,
   "id": "0f516507",
   "metadata": {
    "scrolled": true
   },
   "outputs": [
    {
     "name": "stdout",
     "output_type": "stream",
     "text": [
      "https://www.lyrics.com/lyric-lf/5635743/Random+Chance/LEGOS\n",
      "https://www.lyrics.com/lyric-lf/5715201/Random+Chance/Normal+Life\n",
      "https://www.lyrics.com/lyric-lf/6075911/Random+Chance/Circles\n",
      "https://www.lyrics.com/lyric-lf/4714490/Random+Chance/Candy\n",
      "https://www.lyrics.com/lyric-lf/5883284/Random+Chance/Okay\n",
      "https://www.lyrics.com/lyric-lf/4522774/Random+Chance/Distance\n",
      "https://www.lyrics.com/lyric-lf/6007658/Random+Chance/Hometown+Nowhere\n",
      "https://www.lyrics.com/lyric-lf/7185218/Random+Chance/THINKING+ABOUT+U\n",
      "https://www.lyrics.com/lyric/23534667/Random+Axe/Zoo+Drugs\n",
      "https://www.lyrics.com/lyric/23534666/Random+Axe/Random+Call\n",
      "https://www.lyrics.com/lyric/23534665/Random+Axe/Black+Ops\n",
      "https://www.lyrics.com/lyric/23534664/Random+Axe/Chewbacca\n",
      "https://www.lyrics.com/lyric/23534663/Random+Axe/The+Hex\n",
      "https://www.lyrics.com/lyric/23534662/Random+Axe/Understand+This\n",
      "https://www.lyrics.com/lyric/23534661/Random+Axe/Everybody+Nobody+Somebody\n",
      "https://www.lyrics.com/lyric/23534659/Random+Axe/The+Karate+Kid\n",
      "https://www.lyrics.com/lyric/23534658/Random+Axe/Never+Back+Down\n",
      "https://www.lyrics.com/lyric/23534657/Random+Axe/Monster+Babies\n",
      "https://www.lyrics.com/lyric/23534656/Random+Axe/Shirley+C\n",
      "https://www.lyrics.com/lyric/23534655/Random+Axe/Another+One\n",
      "https://www.lyrics.com/lyric/23534654/Random+Axe/4+in+the+Box\n",
      "https://www.lyrics.com/lyric/23534653/Random+Axe/Outro+Smoutro\n",
      "https://www.lyrics.com/lyric-lf/5635743/Random+Chance/LEGOS\n",
      "https://www.lyrics.com/lyric-lf/5715201/Random+Chance/Normal+Life\n",
      "https://www.lyrics.com/lyric-lf/6075911/Random+Chance/Circles\n",
      "https://www.lyrics.com/lyric-lf/4714490/Random+Chance/Candy\n",
      "https://www.lyrics.com/lyric-lf/5883284/Random+Chance/Okay\n",
      "https://www.lyrics.com/lyric-lf/4522774/Random+Chance/Distance\n",
      "https://www.lyrics.com/lyric-lf/6007658/Random+Chance/Hometown+Nowhere\n",
      "https://www.lyrics.com/lyric-lf/7185218/Random+Chance/THINKING+ABOUT+U\n",
      "https://www.lyrics.com/lyric/23534667/Random+Axe/Zoo+Drugs\n",
      "https://www.lyrics.com/lyric/23534666/Random+Axe/Random+Call\n",
      "https://www.lyrics.com/lyric/23534665/Random+Axe/Black+Ops\n",
      "https://www.lyrics.com/lyric/23534664/Random+Axe/Chewbacca\n",
      "https://www.lyrics.com/lyric/23534663/Random+Axe/The+Hex\n",
      "https://www.lyrics.com/lyric/23534662/Random+Axe/Understand+This\n",
      "https://www.lyrics.com/lyric/23534661/Random+Axe/Everybody+Nobody+Somebody\n",
      "https://www.lyrics.com/lyric/23534659/Random+Axe/The+Karate+Kid\n",
      "https://www.lyrics.com/lyric/23534658/Random+Axe/Never+Back+Down\n",
      "https://www.lyrics.com/lyric/23534657/Random+Axe/Monster+Babies\n",
      "https://www.lyrics.com/lyric/23534656/Random+Axe/Shirley+C\n",
      "https://www.lyrics.com/lyric/23534655/Random+Axe/Another+One\n",
      "https://www.lyrics.com/lyric/23534654/Random+Axe/4+in+the+Box\n",
      "https://www.lyrics.com/lyric/23534653/Random+Axe/Outro+Smoutro\n"
     ]
    }
   ],
   "source": [
    "# take the first 6 songs from each group to construct the training data \n",
    "\n",
    "lyric_list_href_1_train = get_hyper(links_1)[0:6]\n",
    "\n",
    "lyric_list_href_2_train = get_hyper(links_2)[0:6]\n",
    "\n",
    "lyric_list_href_1_test = get_hyper(links_1)[6:7]\n",
    "\n",
    "lyric_list_href_2_test = get_hyper(links_2)[6:7]\n",
    "\n"
   ]
  },
  {
   "cell_type": "code",
   "execution_count": 13,
   "id": "b349c04c",
   "metadata": {},
   "outputs": [],
   "source": [
    "# Extract the text for each song 'and' save im CORPUS_...\n",
    "\n",
    "CORPUS_1_train = []\n",
    "CORPUS_1_train_temp = []\n",
    "\n",
    "\n",
    "for song_link in  lyric_list_href_1_train:\n",
    "    url_1 = song_link\n",
    "    \n",
    "    response_1 = requests.get(url_1)\n",
    "\n",
    "    spiced_soup_1 = BeautifulSoup(response_1.text)\n",
    "    \n",
    "    CORPUS_1_train_temp = []\n",
    "    \n",
    "    for title in spiced_soup_1.find_all(class_='lyric-body'):\n",
    "        \n",
    "        title_splited = re.split(\"\\n\",title.text)  \n",
    "        \n",
    "        for k in title_splited:\n",
    "            if k != '':\n",
    "                CORPUS_1_train_temp.append(k)\n",
    "    # add the first two lines of the song    \n",
    "    if len(CORPUS_1_train_temp) > 0:\n",
    "        CORPUS_1_train.append(CORPUS_1_train_temp[0])   \n",
    "        CORPUS_1_train.append(CORPUS_1_train_temp[1]) \n",
    "    \n",
    "        # add repeated part, to do this choose the first 15 caharacters of the line\n",
    "        for i in CORPUS_1_train_temp:\n",
    "           s_i = i[0:12]\n",
    "           for j in CORPUS_1_train_temp:\n",
    "                s_j = j[0:12]\n",
    "                if s_i==s_j:\n",
    "                    CORPUS_1_train.append(i)   \n",
    "    \n",
    "#  remove duplicates     \n",
    "\n",
    "CORPUS_1_train = list(set(CORPUS_1_train))\n",
    "\n",
    "\n",
    "\n",
    "\n",
    "\n",
    "CORPUS_2_train = []\n",
    "CORPUS_2_train_temp = []\n",
    "\n",
    "\n",
    "for song_link in  lyric_list_href_2_train:\n",
    "    url_1 = song_link\n",
    "    \n",
    "    response_1 = requests.get(url_1)\n",
    "\n",
    "    spiced_soup_1 = BeautifulSoup(response_1.text)\n",
    "    \n",
    "    CORPUS_2_train_temp = []\n",
    "    \n",
    "    for title in spiced_soup_1.find_all(class_='lyric-body'):\n",
    "        \n",
    "        title_splited = re.split(\"\\n\",title.text)  \n",
    "        \n",
    "        for k in title_splited:\n",
    "            if k != '':\n",
    "                CORPUS_2_train_temp.append(k)\n",
    "    # add the first two lines of the song   \n",
    "    if len(CORPUS_2_train_temp) > 0:\n",
    "        CORPUS_2_train.append(CORPUS_2_train_temp[0])   \n",
    "        CORPUS_2_train.append(CORPUS_2_train_temp[1]) \n",
    "    \n",
    "        # add repeated part, to do this choose the first 15 caharacters of the line\n",
    "        for i in CORPUS_2_train_temp:\n",
    "           s_i = i[0:12]\n",
    "           for j in CORPUS_2_train_temp:\n",
    "                s_j = j[0:12]\n",
    "                if s_i==s_j:\n",
    "                    CORPUS_2_train.append(i)   \n",
    "    \n",
    "#  remove duplicates     \n",
    "\n",
    "CORPUS_2_train = list(set(CORPUS_2_train))\n",
    "\n",
    "\n",
    " \n",
    "    \n",
    "    \n",
    "    \n",
    "                \n",
    "CORPUS_1_test = []\n",
    "CORPUS_1_test_temp = []\n",
    "\n",
    "\n",
    "for song_link in  lyric_list_href_1_test:\n",
    "    url_1 = song_link\n",
    "    \n",
    "    response_1 = requests.get(url_1)\n",
    "\n",
    "    spiced_soup_1 = BeautifulSoup(response_1.text)\n",
    "    \n",
    "    CORPUS_1_test_temp = []\n",
    "    \n",
    "    for title in spiced_soup_1.find_all(class_='lyric-body'):\n",
    "        \n",
    "        title_splited = re.split(\"\\n\",title.text)  \n",
    "        \n",
    "        for k in title_splited:\n",
    "            if k != '':\n",
    "                CORPUS_1_test_temp.append(k)\n",
    "    # add the first two lines of the song\n",
    "    if len(CORPUS_1_test_temp) > 0:\n",
    "        CORPUS_1_test.append(CORPUS_1_test_temp[0])   \n",
    "        CORPUS_1_test.append(CORPUS_1_test_temp[1]) \n",
    "    \n",
    "        # add repeated part, to do this choose the first 15 caharacters of the line\n",
    "        for i in CORPUS_1_test_temp:\n",
    "           s_i = i[0:12]\n",
    "           for j in CORPUS_1_test_temp:\n",
    "                s_j = j[0:12]\n",
    "                if s_i==s_j:\n",
    "                    CORPUS_1_test.append(i)   \n",
    "    \n",
    "#  remove duplicates     \n",
    "\n",
    "CORPUS_1_test = list(set(CORPUS_1_test))\n",
    "        \n",
    "        \n",
    "        \n",
    "        \n",
    "\n",
    "\n",
    "\n",
    "CORPUS_2_test = []\n",
    "CORPUS_2_test_temp = []\n",
    "\n",
    "\n",
    "for song_link in  lyric_list_href_2_test:\n",
    "    url_1 = song_link\n",
    "    \n",
    "    response_1 = requests.get(url_1)\n",
    "\n",
    "    spiced_soup_1 = BeautifulSoup(response_1.text)\n",
    "    \n",
    "    CORPUS_2_test_temp = []\n",
    "    \n",
    "    for title in spiced_soup_1.find_all(class_='lyric-body'):\n",
    "        \n",
    "        title_splited = re.split(\"\\n\",title.text)  \n",
    "        \n",
    "        for k in title_splited:\n",
    "            if k != '':\n",
    "                CORPUS_2_test_temp.append(k)\n",
    "    # add the first two lines of the song    \n",
    "    if len(CORPUS_2_test_temp) > 0:\n",
    "        CORPUS_2_test.append(CORPUS_2_test_temp[0])   \n",
    "        CORPUS_2_test.append(CORPUS_2_test_temp[1]) \n",
    "    \n",
    "        # add repeated part, to do this choose the first 15 caharacters of the line\n",
    "        for i in CORPUS_2_test_temp:\n",
    "           s_i = i[0:12]\n",
    "           for j in CORPUS_2_test_temp:\n",
    "                s_j = j[0:12]\n",
    "                if s_i==s_j:\n",
    "                    CORPUS_2_test.append(i)   \n",
    "    \n",
    "#  remove duplicates     \n",
    "\n",
    "CORPUS_2_test = list(set(CORPUS_2_test))\n",
    "                      "
   ]
  },
  {
   "cell_type": "code",
   "execution_count": 14,
   "id": "c958e0a5",
   "metadata": {},
   "outputs": [],
   "source": [
    "#  get the number of lines for each of the datas\n",
    "\n",
    "n1_test = len(CORPUS_1_test)\n",
    "n2_test = len(CORPUS_2_test)\n",
    "\n",
    "\n",
    "n1_train = len(CORPUS_1_train)\n",
    "n2_train = len(CORPUS_2_train)\n",
    "\n"
   ]
  },
  {
   "cell_type": "code",
   "execution_count": 15,
   "id": "0f509ae0",
   "metadata": {},
   "outputs": [],
   "source": [
    "# Combine training data and test data in a single file\n",
    "\n",
    "\n",
    "CORPUS_train = CORPUS_1_train + CORPUS_2_train\n",
    "            \n",
    "CORPUS_test = CORPUS_1_test + CORPUS_2_test \n",
    "\n",
    "\n",
    "Labels_train = ['Random Chance'] * n1_train + ['Random Axe'] * n2_train\n",
    "\n",
    "Labels_test = ['Random Chance'] * n1_test + ['Random Axe'] * n2_test\n",
    "\n",
    "\n"
   ]
  },
  {
   "cell_type": "code",
   "execution_count": 16,
   "id": "4727cdaa",
   "metadata": {
    "scrolled": false
   },
   "outputs": [],
   "source": [
    "def fit_model(X_train, y_train):\n",
    "    \"\"\"Return a trained model based on the corpus.\n",
    "    Take the corpus and labels.\"\"\"\n",
    "\n",
    "    model = make_pipeline(\n",
    "        TfidfVectorizer(),\n",
    "        MultinomialNB()\n",
    "    )\n",
    "\n",
    "    fitted_model = model.fit(X_train, y_train)\n",
    "\n",
    "    return fitted_model"
   ]
  },
  {
   "cell_type": "code",
   "execution_count": 17,
   "id": "4667665d",
   "metadata": {},
   "outputs": [],
   "source": [
    "def make_predictions(model, X_test):\n",
    "    \"\"\"Returns the class with most probability and also correspondent probabilities.\n",
    "    Takes a fitted model and X_test (unseen data).\"\"\"\n",
    "\n",
    "    #X_test = [X_test]\n",
    "    \n",
    "    predictions = model.predict(X_test)\n",
    "    probs = model.predict_proba(X_test)\n",
    "    \n",
    "\n",
    "    return predictions"
   ]
  },
  {
   "cell_type": "code",
   "execution_count": 18,
   "id": "cbad26fb",
   "metadata": {},
   "outputs": [],
   "source": [
    "#  fit the model\n",
    "\n",
    "\n",
    "fitted_model = fit_model(X_train = CORPUS_train, y_train = Labels_train)"
   ]
  },
  {
   "cell_type": "code",
   "execution_count": 19,
   "id": "144ae3de",
   "metadata": {},
   "outputs": [],
   "source": [
    "# set the test data to CORPUS_test\n",
    "\n",
    "X_test = CORPUS_test\n"
   ]
  },
  {
   "cell_type": "code",
   "execution_count": 20,
   "id": "71940f54",
   "metadata": {},
   "outputs": [
    {
     "name": "stdout",
     "output_type": "stream",
     "text": [
      "The accuracy of the model is: 0.618\n",
      "The f1-score of the model is: 0.58\n",
      "The precision of the model is: 0.909\n",
      "The recall of the model is: 0.426\n"
     ]
    },
    {
     "data": {
      "image/png": "[encoded data removed]",
      "text/plain": [
       "<Figure size 432x288 with 2 Axes>"
      ]
     },
     "metadata": {
      "needs_background": "light"
     },
     "output_type": "display_data"
    }
   ],
   "source": [
    "# Get the predictions\n",
    "\n",
    "predictions = make_predictions(model = fitted_model, X_test = X_test)\n",
    "\n",
    "\n",
    "ytrue =Labels_test\n",
    "ypredict = predictions\n",
    "\n",
    "cm = confusion_matrix(ytrue, ypredict)    \n",
    "disp = ConfusionMatrixDisplay(cm, display_labels=['Random Axe', 'Random Chance'])\n",
    "disp.plot()\n",
    "\n",
    "\n",
    "# convert to numerics to get scores\n",
    "\n",
    "\n",
    "ytrue_n = []\n",
    "ypredict_n = []\n",
    "\n",
    "\n",
    "for i in ytrue:\n",
    "    if i == 'Random Axe':\n",
    "        ytrue_n.append(1)\n",
    "    else:\n",
    "        ytrue_n.append(0)\n",
    "        \n",
    "for i in ypredict:\n",
    "    if i == 'Random Axe':\n",
    "        ypredict_n.append(1)\n",
    "    else:\n",
    "        ypredict_n.append(0)\n",
    "\n",
    "\n",
    "        \n",
    "        \n",
    "print(f'The accuracy of the model is: {round(accuracy_score(ytrue_n, ypredict_n), 3)}')        \n",
    "print(f'The f1-score of the model is: {round(f1_score(ytrue_n, ypredict_n), 3)}')\n",
    "print(f'The precision of the model is: {round(precision_score(ytrue_n, ypredict_n), 3)}')\n",
    "print(f'The recall of the model is: {round(recall_score(ytrue_n, ypredict_n), 3)}')"
   ]
  }
 ],
 "metadata": {
  "kernelspec": {
   "display_name": "Python 3 (ipykernel)",
   "language": "python",
   "name": "python3"
  },
  "language_info": {
   "codemirror_mode": {
    "name": "ipython",
    "version": 3
   },
   "file_extension": ".py",
   "mimetype": "text/x-python",
   "name": "python",
   "nbconvert_exporter": "python",
   "pygments_lexer": "ipython3",
   "version": "3.9.0"
  },
  "toc": {
   "base_numbering": 1,
   "nav_menu": {},
   "number_sections": false,
   "sideBar": true,
   "skip_h1_title": false,
   "title_cell": "Table of Contents",
   "title_sidebar": "Contents",
   "toc_cell": false,
   "toc_position": {},
   "toc_section_display": true,
   "toc_window_display": false
  },
  "varInspector": {
   "cols": {
    "lenName": 16,
    "lenType": 16,
    "lenVar": 40
   },
   "kernels_config": {
    "python": {
     "delete_cmd_postfix": "",
     "delete_cmd_prefix": "del ",
     "library": "var_list.py",
     "varRefreshCmd": "print(var_dic_list())"
    },
    "r": {
     "delete_cmd_postfix": ") ",
     "delete_cmd_prefix": "rm(",
     "library": "var_list.r",
     "varRefreshCmd": "cat(var_dic_list()) "
    }
   },
   "types_to_exclude": [
    "module",
    "function",
    "builtin_function_or_method",
    "instance",
    "_Feature"
   ],
   "window_display": false
  }
 },
 "nbformat": 4,
 "nbformat_minor": 5
}
